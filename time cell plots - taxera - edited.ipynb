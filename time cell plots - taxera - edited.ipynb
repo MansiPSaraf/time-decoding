{
 "cells": [
  {
   "cell_type": "code",
   "execution_count": 1,
   "id": "d6f2c751",
   "metadata": {},
   "outputs": [],
   "source": [
    "# import matplotlib.pyplot as plot\n",
    "from matplotlib import pyplot as plt\n",
    "import numpy as np\n",
    "import math \n",
    "\n",
    "import pandas as pd\n",
    "import scipy.io\n",
    "import mat73\n",
    "import math \n",
    "import pickle \n",
    "import random \n",
    "\n",
    "from scipy.ndimage import gaussian_filter\n",
    "from scipy import ndimage\n",
    "from scipy import signal\n",
    "# from matplotlib.pyplot import figure\n"
   ]
  },
  {
   "cell_type": "code",
   "execution_count": null,
   "id": "dc0324a7",
   "metadata": {},
   "outputs": [],
   "source": []
  },
  {
   "cell_type": "code",
   "execution_count": 2,
   "id": "e377aa27",
   "metadata": {},
   "outputs": [],
   "source": [
    "##  GET INDICES OF SPECIFIC TRIALS. WE CAN USE THESE INDICES LATER TO GET POKEIN ETC OF THE TRIALS WE ARE INTERESTED IN \n",
    "\n",
    "## use indices during all odor a,b,c,d presentations, and not just trials when all are inseq: \n",
    "## select only correct inseq trials:\n",
    "\n",
    "def get_inseq_odors_local(pretrialbehav):\n",
    "\n",
    "    x = np.transpose(pretrialbehav['Odor'])\n",
    "    idx_1 = [i for i in range(0,len(x)) if int(x[i])== 1 ]\n",
    "    idx_2 = [i for i in range(0,len(x)) if int(x[i])== 2 ]\n",
    "    idx_3 = [i for i in range(0,len(x)) if int(x[i])== 3 ]\n",
    "    idx_4 = [i for i in range(0,len(x)) if int(x[i])== 4 ]\n",
    "    idx_5 = [i for i in range(0,len(x)) if int(x[i])== 5 ]\n",
    "\n",
    "    all_trials = {}\n",
    "    key_list = [\"1\",\"2\",\"3\",\"4\",\"5\"]\n",
    "    value_list = [idx_1,idx_2,idx_3,idx_4,idx_5]\n",
    "\n",
    "    #get pairs of elements: \n",
    "    zip_iterator = zip(key_list,value_list)\n",
    "    all_trials = dict(zip_iterator)\n",
    "\n",
    "\n",
    "    for k,v in all_trials.items():\n",
    "        idx = all_trials[k]\n",
    "        x = np.transpose(pretrialbehav['Performance'])\n",
    "        selected_performance = x[idx]\n",
    "        x = np.transpose(pretrialbehav['PokeDuration']) \n",
    "        selected_durations = x[idx]\n",
    "        x = np.transpose(pretrialbehav['Position'])\n",
    "        selected_positions = x[idx]\n",
    "        for i in range(len(idx)-1):\n",
    "        # for inseq odors, check for timming erros and don't mark them as incorrect \n",
    "            if selected_performance[i] == 0 and selected_positions[i] == int(k) and selected_durations[i] > 1.05 :\n",
    "                idx[i] = idx[i]\n",
    "            elif selected_performance[i] == 1 and selected_positions[i] == int(k):\n",
    "                idx[i] = idx[i]\n",
    "            else: \n",
    "                idx[i] = np.nan \n",
    "\n",
    "        idx_sel = [i for i in idx if math.isnan(i) == False]\n",
    "        all_trials[k] = idx_sel\n",
    "        \n",
    "    # get POKEIN indices \n",
    "    x = np.transpose(pretrialbehav['PokeInIndex'])\n",
    "    pokein_o0 = x[all_trials['1']]\n",
    "    pokein_o1 = x[all_trials['2']]\n",
    "    pokein_o2 = x[all_trials['3']]\n",
    "    pokein_o3 = x[all_trials['4']]\n",
    "    pokein_o4 = x[all_trials['5']]\n",
    "\n",
    "    pokein = np.concatenate([pokein_o0,pokein_o1,pokein_o2,pokein_o3,pokein_o4])\n",
    "\n",
    "    key_list = ['1','2','3','4','5']\n",
    "    value_list = [pokein_o0,pokein_o1,pokein_o2,pokein_o3,pokein_o4]\n",
    "    zip_iterator = zip(key_list,value_list)\n",
    "    pokein_dict = dict(zip_iterator)\n",
    "\n",
    "    print(pokein_o0.shape)\n",
    "    print(pokein_o1.shape)\n",
    "    print(pokein_o2.shape)\n",
    "    print(pokein_o3.shape)\n",
    "    print(pokein_o4.shape)\n",
    "    print(pokein.shape)\n",
    "\n",
    "\n",
    "    # get pokeout \n",
    "    x = np.transpose(pretrialbehav['PokeOutIndex'])\n",
    "    pokeout_o0 = x[all_trials['1']]\n",
    "    pokeout_o1 = x[all_trials['2']]\n",
    "    pokeout_o2 = x[all_trials['3']]\n",
    "    pokeout_o3 = x[all_trials['4']]\n",
    "    pokeout_o4 = x[all_trials['5']]\n",
    "\n",
    "    pokeout = np.concatenate([pokeout_o0,pokeout_o1,pokeout_o2,pokeout_o3,pokeout_o4])\n",
    "\n",
    "        \n",
    "    return (all_trials,pokein_o0, pokein_o1,pokein_o2, pokein_o3, pokein_o4, pokeout_o0, pokeout_o1, pokeout_o2, pokeout_o3, pokeout_o4)\n",
    "  "
   ]
  },
  {
   "cell_type": "code",
   "execution_count": 3,
   "id": "f8b34a9a",
   "metadata": {},
   "outputs": [],
   "source": [
    "def get_activity_specific_odor_trials(activity,pokein_odor,inseq_duration):\n",
    "    \n",
    "    spikes_odor_chosen = np.zeros([inseq_duration, activity.shape[1], pokein_odor.shape[0]])\n",
    "    \n",
    "    for trial in range(pokein_odor.shape[0]):\n",
    "        spikes_odor_chosen[:,:,trial] = activity[pokein_odor[trial][0][0][0]:pokein_odor[trial][0][0][0]+inseq_duration]\n",
    "        \n",
    "    return(spikes_odor_chosen)"
   ]
  },
  {
   "cell_type": "code",
   "execution_count": 50,
   "id": "3d5a33cf",
   "metadata": {},
   "outputs": [],
   "source": [
    "# normalizing activity of each neuron - divide activity of each neuron with its highest spiking value. \n",
    "# NAN is produced because activity of some neurons is 0, and so 0/0 = nan\n",
    "\n",
    "def normalize_activity_each_neuron(avg_activity_odor_chosen):\n",
    "    normalize_activity = avg_activity_odor_chosen/np.max(avg_activity_odor_chosen,axis = 0)\n",
    "#     normalize_activity[np.isnan(normalize_activity)] = 0\n",
    "    \n",
    "    return(normalize_activity)\n",
    "    \n",
    "    \n"
   ]
  },
  {
   "cell_type": "code",
   "execution_count": 52,
   "id": "344b86f0",
   "metadata": {},
   "outputs": [],
   "source": [
    "# set NANs produced due to the inactive neurons back to 0. \n",
    "# then re-order the matrix such neuron firing at its peak earliest in the 1200 ms is indexed in the first row\n",
    "\n",
    "def sort_neurons_mean(avg_activity):\n",
    "    spike_idx_indiv = np.zeros([avg_activity.shape[1]])\n",
    "    for neuron in range(avg_activity.shape[1]):\n",
    "        if (np.isnan(np.sum(avg_activity[:,neuron])) == False):\n",
    "            spike_idx_indiv[neuron] = np.where(avg_activity[:,neuron] ==np.max(avg_activity[:,neuron]))[0][0]\n",
    "        else :\n",
    "            spike_idx_indiv[neuron] = np.nan\n",
    "\n",
    "    sorted_idx = np.argsort(spike_idx_indiv)\n",
    "    sorted_activity = avg_activity[:,np.argsort(spike_idx_indiv)]\n",
    "    sorted_activity[np.isnan(sorted_activity)] = 0\n",
    "    \n",
    "    return(sorted_idx, sorted_activity)\n",
    "    \n",
    "    "
   ]
  },
  {
   "cell_type": "code",
   "execution_count": null,
   "id": "23e349f9",
   "metadata": {},
   "outputs": [],
   "source": []
  },
  {
   "cell_type": "code",
   "execution_count": null,
   "id": "77da5368",
   "metadata": {},
   "outputs": [],
   "source": []
  },
  {
   "cell_type": "code",
   "execution_count": null,
   "id": "6fd4fd5f",
   "metadata": {},
   "outputs": [],
   "source": []
  },
  {
   "cell_type": "code",
   "execution_count": 6,
   "id": "35dab358",
   "metadata": {},
   "outputs": [],
   "source": [
    "# load data \n",
    "behav_mat = scipy.io.loadmat('SuperChris_BehaviorMatrix.mat') \n",
    "ensemble_mat = mat73.loadmat('SuperChris_EnsembleMatrix.mat')\n",
    "behav_info = scipy.io.loadmat('behav_info.mat') \n",
    "\n",
    "pretrialbehav = behav_info[\"preTrialBehavMatrix\"]\n",
    "spiking = ensemble_mat[\"ensembleMatrix\"]  #FIRST COLUMN IS THE TIME, THE REST ARE THE ACTIVITIES OF SINGLE UNITS \n"
   ]
  },
  {
   "cell_type": "code",
   "execution_count": 7,
   "id": "3b305247",
   "metadata": {},
   "outputs": [
    {
     "name": "stdout",
     "output_type": "stream",
     "text": [
      "(56, 1)\n",
      "(50, 1)\n",
      "(40, 1)\n",
      "(34, 1)\n",
      "(31, 1)\n",
      "(211, 1)\n"
     ]
    }
   ],
   "source": [
    "# get specific trials (inseq correct trials for different odors)\n",
    "\n",
    "(all_trials,pokein_o0, pokein_o1,pokein_o2, pokein_o3, pokein_o4, pokeout_o0, pokeout_o1, pokeout_o2, pokeout_o3, pokeout_o4) = get_inseq_odors_local(pretrialbehav)\n",
    "\n",
    "pokein = np.concatenate([pokein_o0,pokein_o1,pokein_o2,pokein_o3,pokein_o4])\n",
    "key_list = ['1','2','3','4','5']\n",
    "value_list = [pokein_o0,pokein_o1,pokein_o2,pokein_o3,pokein_o4]\n",
    "zip_iterator = zip(key_list,value_list)\n",
    "pokein_dict = dict(zip_iterator)\n",
    "\n",
    "pokeout = np.concatenate([pokeout_o0,pokeout_o1,pokeout_o2,pokeout_o3,pokeout_o4])\n",
    "key_list = ['1','2','3','4','5']\n",
    "value_list = [pokeout_o0,pokeout_o1,pokeout_o2,pokeout_o3,pokeout_o4]\n",
    "zip_iterator = zip(key_list,value_list)\n",
    "pokeout_dict = dict(zip_iterator)\n"
   ]
  },
  {
   "cell_type": "code",
   "execution_count": 8,
   "id": "a0dc93a8",
   "metadata": {},
   "outputs": [
    {
     "data": {
      "text/plain": [
       "array([[array(['TimeBin'], dtype='<U7'), array(['Odor1'], dtype='<U5'),\n",
       "        array(['Odor2'], dtype='<U5'), array(['Odor3'], dtype='<U5'),\n",
       "        array(['Odor4'], dtype='<U5'), array(['Odor5'], dtype='<U5'),\n",
       "        array(['Position1'], dtype='<U9'),\n",
       "        array(['Position2'], dtype='<U9'),\n",
       "        array(['Position3'], dtype='<U9'),\n",
       "        array(['Position4'], dtype='<U9'),\n",
       "        array(['Position5'], dtype='<U9'),\n",
       "        array(['InSeqLog'], dtype='<U8'),\n",
       "        array(['PerformanceLog'], dtype='<U14'),\n",
       "        array(['PokeEvents'], dtype='<U10'),\n",
       "        array(['FrontReward'], dtype='<U11'),\n",
       "        array(['BackReward'], dtype='<U10'),\n",
       "        array(['XvalRatMazePosition'], dtype='<U19'),\n",
       "        array(['YvalRatMazePosition'], dtype='<U19')]], dtype=object)"
      ]
     },
     "execution_count": 8,
     "metadata": {},
     "output_type": "execute_result"
    }
   ],
   "source": [
    "behav_mat['behavMatrixColIDs']"
   ]
  },
  {
   "cell_type": "code",
   "execution_count": null,
   "id": "38252ab7",
   "metadata": {},
   "outputs": [],
   "source": []
  },
  {
   "cell_type": "code",
   "execution_count": 9,
   "id": "eae75cb6",
   "metadata": {},
   "outputs": [],
   "source": [
    "## smooth the spiking using a gaussian \n",
    "\n",
    "sigma = 150 \n",
    "gaussian_kernel = signal.windows.gaussian(sigma, std = (sigma-1)/(2*2.5))\n",
    "\n",
    "# create a new variable which contains only spiking info. the first column in spiking is time info\n",
    "spiking_only = spiking[:,1:]\n",
    "\n",
    "spikes_gaussian = np.zeros([spiking_only.shape[0], spiking_only.shape[1]])\n",
    "for neuron in range(spiking_only.shape[1]):\n",
    "    spikes_gaussian[:,neuron] = np.convolve(spiking_only[:,neuron],gaussian_kernel,'same')  \n",
    "    "
   ]
  },
  {
   "cell_type": "code",
   "execution_count": null,
   "id": "b2ca3f38",
   "metadata": {},
   "outputs": [],
   "source": []
  },
  {
   "cell_type": "code",
   "execution_count": null,
   "id": "db8dc9a7",
   "metadata": {},
   "outputs": [],
   "source": []
  },
  {
   "cell_type": "code",
   "execution_count": 53,
   "id": "87b3af1b",
   "metadata": {},
   "outputs": [],
   "source": [
    "# get smoothed spiking activity when specific odors are presented\n",
    "\n",
    "inseq_duration = 1200 # duration of each trial\n",
    "\n",
    "# activity when odor A trials are presented\n",
    "spikes_odor_a = get_activity_specific_odor_trials(spikes_gaussian,pokein_o0,inseq_duration)\n",
    "\n",
    "# activity when odor B trials are presented\n",
    "spikes_odor_b = get_activity_specific_odor_trials(spikes_gaussian,pokein_o1,inseq_duration)\n",
    "\n",
    "# activity when odor C trials are presented\n",
    "spikes_odor_c = get_activity_specific_odor_trials(spikes_gaussian,pokein_o2,inseq_duration)\n",
    "\n",
    "# activity when odor D trials are presented\n",
    "spikes_odor_d = get_activity_specific_odor_trials(spikes_gaussian,pokein_o3,inseq_duration)\n"
   ]
  },
  {
   "cell_type": "code",
   "execution_count": null,
   "id": "01097a92",
   "metadata": {},
   "outputs": [],
   "source": []
  },
  {
   "cell_type": "code",
   "execution_count": null,
   "id": "05519e98",
   "metadata": {},
   "outputs": [],
   "source": []
  },
  {
   "cell_type": "code",
   "execution_count": 54,
   "id": "a611b639",
   "metadata": {},
   "outputs": [
    {
     "name": "stderr",
     "output_type": "stream",
     "text": [
      "C:\\Users\\FORTIN~1\\AppData\\Local\\Temp/ipykernel_1636/2257334971.py:5: RuntimeWarning: invalid value encountered in true_divide\n",
      "  normalize_activity = avg_activity_odor_chosen/np.max(avg_activity_odor_chosen,axis = 0)\n"
     ]
    }
   ],
   "source": [
    "# divide activity of each neuron with its highest spiking value, and then re-order the matrix such neuron firing at its peak earliest in the 1200 ms is indexed in the first row \n",
    "# the warnings are because some neurons don't fire and so a division of 0/0 leads to the warning\n",
    "\n",
    "# odor A\n",
    "avg_activity_odor_a = np.mean(spikes_odor_a,axis = 2)\n",
    "norm_activity_odor_a = normalize_activity_each_neuron(avg_activity_odor_a)\n",
    "sorted_idx_odor_a, sorted_odor_a = sort_neurons_mean(norm_activity_odor_a)\n",
    "\n",
    "# odor B\n",
    "avg_activity_odor_b = np.mean(spikes_odor_b,axis = 2)\n",
    "norm_activity_odor_b = normalize_activity_each_neuron(avg_activity_odor_b)\n",
    "sorted_idx_odor_b, sorted_odor_b = sort_neurons_mean(norm_activity_odor_b)\n",
    "\n",
    "# odor C\n",
    "avg_activity_odor_c = np.mean(spikes_odor_c,axis = 2)\n",
    "norm_activity_odor_c = normalize_activity_each_neuron(avg_activity_odor_c)\n",
    "sorted_idx_odor_c, sorted_odor_c = sort_neurons_mean(norm_activity_odor_c)\n",
    "\n",
    "# odor D\n",
    "avg_activity_odor_d = np.mean(spikes_odor_d,axis = 2)\n",
    "norm_activity_odor_d = normalize_activity_each_neuron(avg_activity_odor_d)\n",
    "sorted_idx_odor_d, sorted_odor_d = sort_neurons_mean(norm_activity_odor_d)\n",
    "\n"
   ]
  },
  {
   "cell_type": "code",
   "execution_count": null,
   "id": "a7063b2b",
   "metadata": {},
   "outputs": [],
   "source": []
  },
  {
   "cell_type": "code",
   "execution_count": 56,
   "id": "5a295a9f",
   "metadata": {},
   "outputs": [
    {
     "data": {
      "image/png": "[encoded data removed]",
      "text/plain": [
       "<Figure size 720x360 with 4 Axes>"
      ]
     },
     "metadata": {
      "needs_background": "light"
     },
     "output_type": "display_data"
    }
   ],
   "source": [
    "fig, axs = plt.subplots(1,4, figsize = (10,5))\n",
    "\n",
    "axs[0].imshow(sorted_odor_a.T, cmap='jet', interpolation='nearest', aspect='auto')\n",
    "axs[0].set_title('odor A')\n",
    "\n",
    "axs[1].imshow(sorted_odor_b.T, cmap='jet', interpolation='nearest', aspect='auto')\n",
    "axs[1].set_title('odor B')\n",
    "\n",
    "axs[2].imshow(sorted_odor_c.T, cmap='jet', interpolation='nearest', aspect='auto')\n",
    "axs[2].set_title('odor C')\n",
    "\n",
    "im = axs[3].imshow(sorted_odor_d.T, cmap='jet', interpolation='nearest', aspect='auto')\n",
    "axs[3].set_title('odor D')\n",
    "\n",
    "for ax in axs.flat:\n",
    "    ax.set_xlabel('time (ms)')\n",
    "    ax.set_ylabel('re-ordered neurons')\n",
    "    \n",
    "# fig.colorbar(im)\n",
    "\n",
    "plt.tight_layout()\n",
    "\n"
   ]
  },
  {
   "cell_type": "code",
   "execution_count": null,
   "id": "e7340d85",
   "metadata": {},
   "outputs": [],
   "source": []
  },
  {
   "cell_type": "code",
   "execution_count": null,
   "id": "70fde8bf",
   "metadata": {},
   "outputs": [],
   "source": []
  }
 ],
 "metadata": {
  "kernelspec": {
   "display_name": "Python 3 (ipykernel)",
   "language": "python",
   "name": "python3"
  },
  "language_info": {
   "codemirror_mode": {
    "name": "ipython",
    "version": 3
   },
   "file_extension": ".py",
   "mimetype": "text/x-python",
   "name": "python",
   "nbconvert_exporter": "python",
   "pygments_lexer": "ipython3",
   "version": "3.9.7"
  }
 },
 "nbformat": 4,
 "nbformat_minor": 5
}
