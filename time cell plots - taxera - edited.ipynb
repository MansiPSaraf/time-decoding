{
 "cells": [
  {
   "cell_type": "code",
   "execution_count": 2,
   "id": "d6f2c751",
   "metadata": {},
   "outputs": [],
   "source": [
    "# import matplotlib.pyplot as plot\n",
    "from matplotlib import pyplot as plt\n",
    "import numpy as np\n",
    "\n",
    "import pandas as pd\n",
    "import scipy.io\n",
    "import mat73\n",
    "import math \n",
    "import pickle \n",
    "import random \n",
    "\n",
    "from scipy.ndimage import gaussian_filter\n",
    "from scipy import ndimage\n",
    "# from matplotlib.pyplot import figure\n"
   ]
  },
  {
   "cell_type": "code",
   "execution_count": null,
   "id": "423d1141",
   "metadata": {},
   "outputs": [],
   "source": []
  },
  {
   "cell_type": "code",
   "execution_count": null,
   "id": "9e590f65",
   "metadata": {},
   "outputs": [],
   "source": []
  },
  {
   "cell_type": "code",
   "execution_count": null,
   "id": "dc0324a7",
   "metadata": {},
   "outputs": [],
   "source": []
  },
  {
   "cell_type": "code",
   "execution_count": 3,
   "id": "e377aa27",
   "metadata": {},
   "outputs": [],
   "source": [
    "##  GET INDICES OF SPECIFIC TRIALS. WE CAN USE THESE INDICES LATER TO GET POKEIN ETC OF THE TRIALS WE ARE INTERESTED IN \n",
    "\n",
    "## use indices during all odor a,b,c,d presentations, and not just trials when all are inseq: \n",
    "## select only correct inseq trials:\n",
    "\n",
    "def get_inseq_odors_local(pretrialbehav):\n",
    "\n",
    "    x = np.transpose(pretrialbehav['Odor'])\n",
    "    idx_1 = [i for i in range(0,len(x)) if int(x[i])== 1 ]\n",
    "    idx_2 = [i for i in range(0,len(x)) if int(x[i])== 2 ]\n",
    "    idx_3 = [i for i in range(0,len(x)) if int(x[i])== 3 ]\n",
    "    idx_4 = [i for i in range(0,len(x)) if int(x[i])== 4 ]\n",
    "    idx_5 = [i for i in range(0,len(x)) if int(x[i])== 5 ]\n",
    "\n",
    "    all_trials = {}\n",
    "    key_list = [\"1\",\"2\",\"3\",\"4\",\"5\"]\n",
    "    value_list = [idx_1,idx_2,idx_3,idx_4,idx_5]\n",
    "\n",
    "    #get pairs of elements: \n",
    "    zip_iterator = zip(key_list,value_list)\n",
    "    all_trials = dict(zip_iterator)\n",
    "\n",
    "    import math \n",
    "\n",
    "    for k,v in all_trials.items():\n",
    "        idx = all_trials[k]\n",
    "        x = np.transpose(pretrialbehav['Performance'])\n",
    "        selected_performance = x[idx]\n",
    "        x = np.transpose(pretrialbehav['PokeDuration']) \n",
    "        selected_durations = x[idx]\n",
    "        x = np.transpose(pretrialbehav['Position'])\n",
    "        selected_positions = x[idx]\n",
    "        for i in range(len(idx)-1):\n",
    "        # for inseq odors, check for timming erros and don't mark them as incorrect \n",
    "            if selected_performance[i] == 0 and selected_positions[i] == int(k) and selected_durations[i] > 1.05 :\n",
    "                idx[i] = idx[i]\n",
    "            elif selected_performance[i] == 1 and selected_positions[i] == int(k):\n",
    "                idx[i] = idx[i]\n",
    "            else: \n",
    "                idx[i] = np.nan \n",
    "\n",
    "    #     print(idx)\n",
    "        idx_sel = [i for i in idx if math.isnan(i) == False]\n",
    "        all_trials[k] = idx_sel\n",
    "        \n",
    "    # get POKEIN indices \n",
    "    x = np.transpose(pretrialbehav['PokeInIndex'])\n",
    "    pokein_o0 = x[all_trials['1']]\n",
    "    pokein_o1 = x[all_trials['2']]\n",
    "    pokein_o2 = x[all_trials['3']]\n",
    "    pokein_o3 = x[all_trials['4']]\n",
    "    pokein_o4 = x[all_trials['5']]\n",
    "\n",
    "    pokein = np.concatenate([pokein_o0,pokein_o1,pokein_o2,pokein_o3,pokein_o4])\n",
    "\n",
    "    key_list = ['1','2','3','4','5']\n",
    "    value_list = [pokein_o0,pokein_o1,pokein_o2,pokein_o3,pokein_o4]\n",
    "    zip_iterator = zip(key_list,value_list)\n",
    "    pokein_dict = dict(zip_iterator)\n",
    "\n",
    "    print(pokein_o0.shape)\n",
    "    print(pokein_o1.shape)\n",
    "    print(pokein_o2.shape)\n",
    "    print(pokein_o3.shape)\n",
    "    print(pokein_o4.shape)\n",
    "    print(pokein.shape)\n",
    "\n",
    "\n",
    "    # get pokeout \n",
    "    x = np.transpose(pretrialbehav['PokeOutIndex'])\n",
    "    pokeout_o0 = x[all_trials['1']]\n",
    "    pokeout_o1 = x[all_trials['2']]\n",
    "    pokeout_o2 = x[all_trials['3']]\n",
    "    pokeout_o3 = x[all_trials['4']]\n",
    "    pokeout_o4 = x[all_trials['5']]\n",
    "\n",
    "    pokeout = np.concatenate([pokeout_o0,pokeout_o1,pokeout_o2,pokeout_o3,pokeout_o4])\n",
    "\n",
    "        \n",
    "    return (all_trials,pokein_o0, pokein_o1,pokein_o2, pokein_o3, pokein_o4, pokeout_o0, pokeout_o1, pokeout_o2, pokeout_o3, pokeout_o4)\n",
    "  "
   ]
  },
  {
   "cell_type": "code",
   "execution_count": 4,
   "id": "d41eaef9",
   "metadata": {},
   "outputs": [],
   "source": [
    "\n",
    "## DEFINE FUNCTION TO GET 2 CONSECUTIVE INSEQ ODORS: \n",
    "\n",
    "def get_inseq_odor_E(pretrialbehav, odor_int):\n",
    "    \n",
    "    x = np.transpose(pretrialbehav['Odor'])\n",
    "    \n",
    "    if odor_int == 5:\n",
    "        odor_int_next = 1\n",
    "    else: \n",
    "        odor_int_next = odor_int + 1\n",
    "\n",
    "    sublist= [odor_int,odor_int_next] #[1, 2, 3, 4]\n",
    "\n",
    "    inseq = [i for i in range(0,len(x)) if list(x[i:i+len(sublist)])==sublist]\n",
    "    #print(inseq)\n",
    "\n",
    "    x = np.transpose(pretrialbehav['Position'])\n",
    "    #to recheck:\n",
    "    pos = [i for i in range(0,len(x)) if list(x[i:i+len(sublist)])==sublist]\n",
    "    #print(pos)\n",
    "    print('check if this is 0: ',len(np.intersect1d(inseq,pos)) - len(inseq))\n",
    "\n",
    "    return inseq; \n",
    "\n"
   ]
  },
  {
   "cell_type": "code",
   "execution_count": null,
   "id": "16631b03",
   "metadata": {},
   "outputs": [],
   "source": []
  },
  {
   "cell_type": "code",
   "execution_count": null,
   "id": "226cd764",
   "metadata": {},
   "outputs": [],
   "source": []
  },
  {
   "cell_type": "code",
   "execution_count": 14,
   "id": "21f05155",
   "metadata": {},
   "outputs": [],
   "source": [
    "# function to convolve spikes over a gaussian . Here I specify the start index, and then the length  : \n",
    "def get_gaussian_spikes_length(sigma,spiking, start_time,length):\n",
    "    # convolve spikes over a gaussian : \n",
    "    spikes_gaussian = {} \n",
    "    for trial in range(len(start_time)):\n",
    "        spikes = spiking[start_time[trial][0][0][0]:start_time[trial][0][0][0]+length,1:spiking.shape[1]]\n",
    "        spikes_gaussian_indiv = np.zeros([spikes.shape[0],spikes.shape[1]])\n",
    "        for neuron in range(spikes.shape[1]):\n",
    "            spikes_gaussian_indiv[:,neuron] = gaussian_filter(spikes[:,neuron],sigma)/np.max(gaussian_filter(spikes[:,neuron],sigma))\n",
    "\n",
    "        spikes_gaussian[trial] = spikes_gaussian_indiv\n",
    "        \n",
    "    return(spikes_gaussian)\n",
    "    "
   ]
  },
  {
   "cell_type": "code",
   "execution_count": 6,
   "id": "4d06eb89",
   "metadata": {},
   "outputs": [],
   "source": [
    "# function to convolve spikes over a gaussian. Here I specify the start index and also the end index : \n",
    "def get_gaussian_spikes(sigma,spiking,end_time, start_time):\n",
    "    # convolve spikes over a gaussian : \n",
    "    spikes_gaussian = {} \n",
    "    for trial in range(len(pokein_first_odor)):\n",
    "        spikes = spiking[start_time[trial][0][0][0]:end_time[trial][0][0][0],1:spiking.shape[1]]\n",
    "        spikes_gaussian_indiv = np.zeros([spikes.shape[0],spikes.shape[1]])\n",
    "        for neuron in range(spikes.shape[1]):\n",
    "            spikes_gaussian_indiv[:,neuron] = gaussian_filter(spikes[:,neuron],sigma)/np.max(gaussian_filter(spikes[:,neuron],sigma))\n",
    "\n",
    "        spikes_gaussian[trial] = spikes_gaussian_indiv\n",
    "        \n",
    "    return(spikes_gaussian)\n",
    "    "
   ]
  },
  {
   "cell_type": "code",
   "execution_count": 7,
   "id": "fcc70957",
   "metadata": {},
   "outputs": [],
   "source": [
    "# sorting function \n",
    "\n",
    "def sort_neurons(spikes_gaussian, trial):\n",
    "    spike_idx_indiv = np.zeros([spikes_gaussian[trial].shape[1]])\n",
    "    for neuron in range(spikes_gaussian[trial].shape[1]):\n",
    "        if (np.isnan(np.sum(spikes_gaussian[trial][:,neuron])) == False):\n",
    "            spike_idx_indiv[neuron] = np.where(spikes_gaussian[trial][:,neuron] ==1)[0][0]\n",
    "        else :\n",
    "            spike_idx_indiv[neuron] = np.nan\n",
    "\n",
    "#     np.sort(spike_idx_indiv)\n",
    "    \n",
    "    return(np.argsort(spike_idx_indiv),spikes_gaussian[trial][:,np.argsort(spike_idx_indiv)])\n",
    "    \n",
    "    "
   ]
  },
  {
   "cell_type": "code",
   "execution_count": 8,
   "id": "344b86f0",
   "metadata": {},
   "outputs": [],
   "source": [
    "# sorting function - to the max\n",
    "\n",
    "def sort_neurons_mean(spikes_gaussian_mean):\n",
    "    spike_idx_indiv = np.zeros([spikes_gaussian_mean.shape[1]])\n",
    "    for neuron in range(spikes_gaussian_mean.shape[1]):\n",
    "        if (np.isnan(np.sum(spikes_gaussian_mean[:,neuron])) == False):\n",
    "            spike_idx_indiv[neuron] = np.where(spikes_gaussian_mean[:,neuron] ==np.max(spikes_gaussian_mean[:,neuron]))[0][0]\n",
    "        else :\n",
    "            spike_idx_indiv[neuron] = np.nan\n",
    "\n",
    "#     np.sort(spike_idx_indiv)\n",
    "    \n",
    "    return(np.argsort(spike_idx_indiv),spikes_gaussian_mean[:,np.argsort(spike_idx_indiv)])\n",
    "    \n",
    "    "
   ]
  },
  {
   "cell_type": "code",
   "execution_count": null,
   "id": "77da5368",
   "metadata": {},
   "outputs": [],
   "source": []
  },
  {
   "cell_type": "code",
   "execution_count": 138,
   "id": "35dab358",
   "metadata": {},
   "outputs": [],
   "source": [
    "behav_mat = scipy.io.loadmat('Barat_BehaviorMatrix.mat') #Barat_BehaviorMatrix.mat\n",
    "ensemble_mat = mat73.loadmat('Barat_EnsembleMatrix.mat')\n",
    "behav_info = scipy.io.loadmat('Barat_preTrialBehavmatrix.mat') #behav_info.mat #Barat_preTrialBehavmatrix\n",
    "\n",
    "pretrialbehav = behav_info[\"preTrialBehavMatrix\"]\n",
    "spiking = ensemble_mat[\"ensembleMatrix\"]  #FIRST COLUMN IS THE TIME, THE REST ARE THE ACTIVITIES OF SINGLE UNITS \n"
   ]
  },
  {
   "cell_type": "code",
   "execution_count": null,
   "id": "07f7de76",
   "metadata": {},
   "outputs": [],
   "source": []
  },
  {
   "cell_type": "code",
   "execution_count": 123,
   "id": "a0dc93a8",
   "metadata": {},
   "outputs": [
    {
     "data": {
      "text/plain": [
       "array([[array(['TimeBin'], dtype='<U7'), array(['Odor1'], dtype='<U5'),\n",
       "        array(['Odor2'], dtype='<U5'), array(['Odor3'], dtype='<U5'),\n",
       "        array(['Odor4'], dtype='<U5'), array(['Odor5'], dtype='<U5'),\n",
       "        array(['Position1'], dtype='<U9'),\n",
       "        array(['Position2'], dtype='<U9'),\n",
       "        array(['Position3'], dtype='<U9'),\n",
       "        array(['Position4'], dtype='<U9'),\n",
       "        array(['Position5'], dtype='<U9'),\n",
       "        array(['InSeqLog'], dtype='<U8'),\n",
       "        array(['PerformanceLog'], dtype='<U14'),\n",
       "        array(['PokeEvents'], dtype='<U10'),\n",
       "        array(['FrontReward'], dtype='<U11'),\n",
       "        array(['BackReward'], dtype='<U10'),\n",
       "        array(['XvalRatMazePosition'], dtype='<U19'),\n",
       "        array(['YvalRatMazePosition'], dtype='<U19')]], dtype=object)"
      ]
     },
     "execution_count": 123,
     "metadata": {},
     "output_type": "execute_result"
    }
   ],
   "source": [
    "behav_mat['behavMatrixColIDs']"
   ]
  },
  {
   "cell_type": "code",
   "execution_count": 133,
   "id": "5aad5a18",
   "metadata": {},
   "outputs": [
    {
     "data": {
      "text/plain": [
       "Text(0.5, 1.0, 'acitivity of a neuron during the session')"
      ]
     },
     "execution_count": 133,
     "metadata": {},
     "output_type": "execute_result"
    },
    {
     "data": {
      "image/png": "[encoded data removed]",
      "text/plain": [
       "<Figure size 432x288 with 1 Axes>"
      ]
     },
     "metadata": {
      "needs_background": "light"
     },
     "output_type": "display_data"
    }
   ],
   "source": [
    "plt.plot(spiking[:,1])\n",
    "plt.title('acitivity of a neuron during the session')"
   ]
  },
  {
   "cell_type": "code",
   "execution_count": null,
   "id": "483d224b",
   "metadata": {},
   "outputs": [],
   "source": []
  },
  {
   "cell_type": "code",
   "execution_count": null,
   "id": "6a9840d6",
   "metadata": {},
   "outputs": [],
   "source": []
  },
  {
   "cell_type": "code",
   "execution_count": 139,
   "id": "2d0f616e",
   "metadata": {},
   "outputs": [
    {
     "name": "stdout",
     "output_type": "stream",
     "text": [
      "(48, 1)\n",
      "(35, 1)\n",
      "(25, 1)\n",
      "(26, 1)\n",
      "(21, 1)\n",
      "(155, 1)\n"
     ]
    }
   ],
   "source": [
    "# get inseq trial indices for poke in and poke out \n",
    "\n",
    "(all_trials,pokein_o0, pokein_o1,pokein_o2, pokein_o3, pokein_o4, pokeout_o0, pokeout_o1, pokeout_o2, pokeout_o3, pokeout_o4) = get_inseq_odors_local(pretrialbehav)\n",
    "\n",
    "pokein = np.concatenate([pokein_o0,pokein_o1,pokein_o2,pokein_o3,pokein_o4])\n",
    "key_list = ['1','2','3','4','5']\n",
    "value_list = [pokein_o0,pokein_o1,pokein_o2,pokein_o3,pokein_o4]\n",
    "zip_iterator = zip(key_list,value_list)\n",
    "pokein_dict = dict(zip_iterator)\n",
    "\n",
    "pokeout = np.concatenate([pokeout_o0,pokeout_o1,pokeout_o2,pokeout_o3,pokeout_o4])\n",
    "key_list = ['1','2','3','4','5']\n",
    "value_list = [pokeout_o0,pokeout_o1,pokeout_o2,pokeout_o3,pokeout_o4]\n",
    "zip_iterator = zip(key_list,value_list)\n",
    "pokeout_dict = dict(zip_iterator)\n"
   ]
  },
  {
   "cell_type": "code",
   "execution_count": 144,
   "id": "5756df62",
   "metadata": {},
   "outputs": [
    {
     "data": {
      "text/plain": [
       "array([[array([[154262]])],\n",
       "       [array([[242877]])],\n",
       "       [array([[318419]])],\n",
       "       [array([[396231]])],\n",
       "       [array([[455930]])],\n",
       "       [array([[492638]])],\n",
       "       [array([[537447]])],\n",
       "       [array([[676256]])],\n",
       "       [array([[769214]])],\n",
       "       [array([[861521]])],\n",
       "       [array([[914666]])],\n",
       "       [array([[961667]])],\n",
       "       [array([[1080768]])],\n",
       "       [array([[1218170]])],\n",
       "       [array([[1323352]])],\n",
       "       [array([[1442047]])],\n",
       "       [array([[1579944]])],\n",
       "       [array([[1633152]])],\n",
       "       [array([[1730307]])],\n",
       "       [array([[1769940]])],\n",
       "       [array([[1841819]])],\n",
       "       [array([[1954708]])],\n",
       "       [array([[2040261]])],\n",
       "       [array([[2284907]])],\n",
       "       [array([[2510176]])],\n",
       "       [array([[2698252]])],\n",
       "       [array([[2779785]])],\n",
       "       [array([[2821748]])],\n",
       "       [array([[2853725]])],\n",
       "       [array([[2904933]])],\n",
       "       [array([[2952249]])],\n",
       "       [array([[3133102]])],\n",
       "       [array([[3419682]])],\n",
       "       [array([[3563139]])],\n",
       "       [array([[3568238]])]], dtype=object)"
      ]
     },
     "execution_count": 144,
     "metadata": {},
     "output_type": "execute_result"
    }
   ],
   "source": [
    "pokein_dict['2']"
   ]
  },
  {
   "cell_type": "code",
   "execution_count": null,
   "id": "ec9b1ae4",
   "metadata": {},
   "outputs": [],
   "source": []
  },
  {
   "cell_type": "code",
   "execution_count": null,
   "id": "916017eb",
   "metadata": {},
   "outputs": [],
   "source": []
  },
  {
   "cell_type": "code",
   "execution_count": 146,
   "id": "e96fa370",
   "metadata": {},
   "outputs": [
    {
     "name": "stderr",
     "output_type": "stream",
     "text": [
      "C:\\Users\\FORTIN~1\\AppData\\Local\\Temp/ipykernel_4200/3351525590.py:9: RuntimeWarning: invalid value encountered in true_divide\n",
      "  spikes_gaussian_indiv[:,neuron] = gaussian_filter(spikes[:,neuron],sigma)/np.max(gaussian_filter(spikes[:,neuron],sigma))\n"
     ]
    }
   ],
   "source": [
    "sigma = 150 \n",
    "length = 1200\n",
    "# end_time = pokeout_o0 #pokein_second_odor\n",
    "\n",
    "start_time = pokein_o0 #pokein_first_odor\n",
    "spikes_gaussian_a = get_gaussian_spikes_length(sigma,spiking, start_time,length)\n",
    "\n",
    "##\n",
    "start_time = pokein_o1 #pokein_first_odor\n",
    "spikes_gaussian_b = get_gaussian_spikes_length(sigma,spiking, start_time,length)\n",
    "\n",
    "##\n",
    "start_time = pokein_o2 #pokein_first_odor\n",
    "spikes_gaussian_c = get_gaussian_spikes_length(sigma,spiking, start_time,length)\n",
    "\n",
    "##\n",
    "start_time = pokein_o3 #pokein_first_odor\n",
    "spikes_gaussian_d = get_gaussian_spikes_length(sigma,spiking, start_time,length)\n",
    "\n",
    "##\n",
    "start_time = pokein_o4 #pokein_first_odor\n",
    "spikes_gaussian_e = get_gaussian_spikes_length(sigma,spiking, start_time,length)\n",
    "\n"
   ]
  },
  {
   "cell_type": "code",
   "execution_count": null,
   "id": "9747ea17",
   "metadata": {},
   "outputs": [],
   "source": []
  },
  {
   "cell_type": "code",
   "execution_count": 149,
   "id": "09b8b929",
   "metadata": {},
   "outputs": [
    {
     "data": {
      "text/plain": [
       "Text(0.5, 1.0, 'actiivty of a neuron after - gaussian kernel smoothing')"
      ]
     },
     "execution_count": 149,
     "metadata": {},
     "output_type": "execute_result"
    },
    {
     "data": {
      "image/png": "[encoded data removed]",
      "text/plain": [
       "<Figure size 432x288 with 1 Axes>"
      ]
     },
     "metadata": {
      "needs_background": "light"
     },
     "output_type": "display_data"
    }
   ],
   "source": [
    "plt.plot(spikes_gaussian_a[0][:,1])\n",
    "plt.title('actiivty of a neuron after - gaussian kernel smoothing')"
   ]
  },
  {
   "cell_type": "code",
   "execution_count": 147,
   "id": "b3cd0cf7",
   "metadata": {},
   "outputs": [],
   "source": [
    "# get the avg activity during all odor a trials : \n",
    "avg_gaussian_a = get_avg_spiking(spikes_gaussian_a_rat1)"
   ]
  },
  {
   "cell_type": "code",
   "execution_count": null,
   "id": "c2cb7d6c",
   "metadata": {},
   "outputs": [],
   "source": []
  },
  {
   "cell_type": "code",
   "execution_count": 151,
   "id": "1821a9b8",
   "metadata": {},
   "outputs": [
    {
     "data": {
      "text/plain": [
       "(0.0, 5.0)"
      ]
     },
     "execution_count": 151,
     "metadata": {},
     "output_type": "execute_result"
    },
    {
     "data": {
      "image/png": "[encoded data removed]",
      "text/plain": [
       "<Figure size 432x288 with 1 Axes>"
      ]
     },
     "metadata": {
      "needs_background": "light"
     },
     "output_type": "display_data"
    }
   ],
   "source": [
    "# plot PSTH\n",
    "\n",
    "[sort_idx , sorted_gaussian] = sort_neurons_mean(avg_gaussian_a) \n",
    "plt.imshow(np.flip(sorted_gaussian.T,1), cmap='viridis', interpolation='nearest', aspect='auto')\n",
    "plt.ylim([0,5])"
   ]
  },
  {
   "cell_type": "code",
   "execution_count": null,
   "id": "c400d707",
   "metadata": {},
   "outputs": [],
   "source": []
  }
 ],
 "metadata": {
  "kernelspec": {
   "display_name": "Python 3 (ipykernel)",
   "language": "python",
   "name": "python3"
  },
  "language_info": {
   "codemirror_mode": {
    "name": "ipython",
    "version": 3
   },
   "file_extension": ".py",
   "mimetype": "text/x-python",
   "name": "python",
   "nbconvert_exporter": "python",
   "pygments_lexer": "ipython3",
   "version": "3.9.7"
  }
 },
 "nbformat": 4,
 "nbformat_minor": 5
}
